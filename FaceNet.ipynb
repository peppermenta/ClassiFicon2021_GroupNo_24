{
  "nbformat": 4,
  "nbformat_minor": 0,
  "metadata": {
    "kernelspec": {
      "display_name": "Python 3",
      "language": "python",
      "name": "python3"
    },
    "language_info": {
      "codemirror_mode": {
        "name": "ipython",
        "version": 3
      },
      "file_extension": ".py",
      "mimetype": "text/x-python",
      "name": "python",
      "nbconvert_exporter": "python",
      "pygments_lexer": "ipython3",
      "version": "3.8.5"
    },
    "colab": {
      "name": "FaceNet.ipynb",
      "provenance": []
    },
    "accelerator": "GPU",
    "widgets": {
      "application/vnd.jupyter.widget-state+json": {
        "da472735a78d44c99cc372988761f830": {
          "model_module": "@jupyter-widgets/controls",
          "model_name": "HBoxModel",
          "state": {
            "_view_name": "HBoxView",
            "_dom_classes": [],
            "_model_name": "HBoxModel",
            "_view_module": "@jupyter-widgets/controls",
            "_model_module_version": "1.5.0",
            "_view_count": null,
            "_view_module_version": "1.5.0",
            "box_style": "",
            "layout": "IPY_MODEL_3ec56ee3ae4749329b45b3e04d34435c",
            "_model_module": "@jupyter-widgets/controls",
            "children": [
              "IPY_MODEL_b4423da96d754ac8a1a3f2b651a1280c",
              "IPY_MODEL_3197878bc3874b07bfcee10dce3bd4d9"
            ]
          }
        },
        "3ec56ee3ae4749329b45b3e04d34435c": {
          "model_module": "@jupyter-widgets/base",
          "model_name": "LayoutModel",
          "state": {
            "_view_name": "LayoutView",
            "grid_template_rows": null,
            "right": null,
            "justify_content": null,
            "_view_module": "@jupyter-widgets/base",
            "overflow": null,
            "_model_module_version": "1.2.0",
            "_view_count": null,
            "flex_flow": null,
            "width": null,
            "min_width": null,
            "border": null,
            "align_items": null,
            "bottom": null,
            "_model_module": "@jupyter-widgets/base",
            "top": null,
            "grid_column": null,
            "overflow_y": null,
            "overflow_x": null,
            "grid_auto_flow": null,
            "grid_area": null,
            "grid_template_columns": null,
            "flex": null,
            "_model_name": "LayoutModel",
            "justify_items": null,
            "grid_row": null,
            "max_height": null,
            "align_content": null,
            "visibility": null,
            "align_self": null,
            "height": null,
            "min_height": null,
            "padding": null,
            "grid_auto_rows": null,
            "grid_gap": null,
            "max_width": null,
            "order": null,
            "_view_module_version": "1.2.0",
            "grid_template_areas": null,
            "object_position": null,
            "object_fit": null,
            "grid_auto_columns": null,
            "margin": null,
            "display": null,
            "left": null
          }
        },
        "b4423da96d754ac8a1a3f2b651a1280c": {
          "model_module": "@jupyter-widgets/controls",
          "model_name": "FloatProgressModel",
          "state": {
            "_view_name": "ProgressView",
            "style": "IPY_MODEL_5f579589e7b7493896976b9e62843dd7",
            "_dom_classes": [],
            "description": "100%",
            "_model_name": "FloatProgressModel",
            "bar_style": "success",
            "max": 46827520,
            "_view_module": "@jupyter-widgets/controls",
            "_model_module_version": "1.5.0",
            "value": 46827520,
            "_view_count": null,
            "_view_module_version": "1.5.0",
            "orientation": "horizontal",
            "min": 0,
            "description_tooltip": null,
            "_model_module": "@jupyter-widgets/controls",
            "layout": "IPY_MODEL_fac7a25f86ab4946a8f3ba7a0014f249"
          }
        },
        "3197878bc3874b07bfcee10dce3bd4d9": {
          "model_module": "@jupyter-widgets/controls",
          "model_name": "HTMLModel",
          "state": {
            "_view_name": "HTMLView",
            "style": "IPY_MODEL_092cb76454694132b41f96ac703c88ee",
            "_dom_classes": [],
            "description": "",
            "_model_name": "HTMLModel",
            "placeholder": "​",
            "_view_module": "@jupyter-widgets/controls",
            "_model_module_version": "1.5.0",
            "value": " 44.7M/44.7M [00:01&lt;00:00, 34.1MB/s]",
            "_view_count": null,
            "_view_module_version": "1.5.0",
            "description_tooltip": null,
            "_model_module": "@jupyter-widgets/controls",
            "layout": "IPY_MODEL_6d6d4a36652b4b50bbc343ec0c5ddc80"
          }
        },
        "5f579589e7b7493896976b9e62843dd7": {
          "model_module": "@jupyter-widgets/controls",
          "model_name": "ProgressStyleModel",
          "state": {
            "_view_name": "StyleView",
            "_model_name": "ProgressStyleModel",
            "description_width": "initial",
            "_view_module": "@jupyter-widgets/base",
            "_model_module_version": "1.5.0",
            "_view_count": null,
            "_view_module_version": "1.2.0",
            "bar_color": null,
            "_model_module": "@jupyter-widgets/controls"
          }
        },
        "fac7a25f86ab4946a8f3ba7a0014f249": {
          "model_module": "@jupyter-widgets/base",
          "model_name": "LayoutModel",
          "state": {
            "_view_name": "LayoutView",
            "grid_template_rows": null,
            "right": null,
            "justify_content": null,
            "_view_module": "@jupyter-widgets/base",
            "overflow": null,
            "_model_module_version": "1.2.0",
            "_view_count": null,
            "flex_flow": null,
            "width": null,
            "min_width": null,
            "border": null,
            "align_items": null,
            "bottom": null,
            "_model_module": "@jupyter-widgets/base",
            "top": null,
            "grid_column": null,
            "overflow_y": null,
            "overflow_x": null,
            "grid_auto_flow": null,
            "grid_area": null,
            "grid_template_columns": null,
            "flex": null,
            "_model_name": "LayoutModel",
            "justify_items": null,
            "grid_row": null,
            "max_height": null,
            "align_content": null,
            "visibility": null,
            "align_self": null,
            "height": null,
            "min_height": null,
            "padding": null,
            "grid_auto_rows": null,
            "grid_gap": null,
            "max_width": null,
            "order": null,
            "_view_module_version": "1.2.0",
            "grid_template_areas": null,
            "object_position": null,
            "object_fit": null,
            "grid_auto_columns": null,
            "margin": null,
            "display": null,
            "left": null
          }
        },
        "092cb76454694132b41f96ac703c88ee": {
          "model_module": "@jupyter-widgets/controls",
          "model_name": "DescriptionStyleModel",
          "state": {
            "_view_name": "StyleView",
            "_model_name": "DescriptionStyleModel",
            "description_width": "",
            "_view_module": "@jupyter-widgets/base",
            "_model_module_version": "1.5.0",
            "_view_count": null,
            "_view_module_version": "1.2.0",
            "_model_module": "@jupyter-widgets/controls"
          }
        },
        "6d6d4a36652b4b50bbc343ec0c5ddc80": {
          "model_module": "@jupyter-widgets/base",
          "model_name": "LayoutModel",
          "state": {
            "_view_name": "LayoutView",
            "grid_template_rows": null,
            "right": null,
            "justify_content": null,
            "_view_module": "@jupyter-widgets/base",
            "overflow": null,
            "_model_module_version": "1.2.0",
            "_view_count": null,
            "flex_flow": null,
            "width": null,
            "min_width": null,
            "border": null,
            "align_items": null,
            "bottom": null,
            "_model_module": "@jupyter-widgets/base",
            "top": null,
            "grid_column": null,
            "overflow_y": null,
            "overflow_x": null,
            "grid_auto_flow": null,
            "grid_area": null,
            "grid_template_columns": null,
            "flex": null,
            "_model_name": "LayoutModel",
            "justify_items": null,
            "grid_row": null,
            "max_height": null,
            "align_content": null,
            "visibility": null,
            "align_self": null,
            "height": null,
            "min_height": null,
            "padding": null,
            "grid_auto_rows": null,
            "grid_gap": null,
            "max_width": null,
            "order": null,
            "_view_module_version": "1.2.0",
            "grid_template_areas": null,
            "object_position": null,
            "object_fit": null,
            "grid_auto_columns": null,
            "margin": null,
            "display": null,
            "left": null
          }
        }
      }
    }
  },
  "cells": [
    {
      "cell_type": "code",
      "metadata": {
        "colab": {
          "base_uri": "https://localhost:8080/"
        },
        "id": "03fi56feQx7z",
        "outputId": "f76379f6-683a-4c9b-e8e9-5364a8a2d529"
      },
      "source": [
        "!git clone https://github.com/peppermenta/faceHack"
      ],
      "execution_count": 1,
      "outputs": [
        {
          "output_type": "stream",
          "text": [
            "fatal: destination path 'faceHack' already exists and is not an empty directory.\n"
          ],
          "name": "stdout"
        }
      ]
    },
    {
      "cell_type": "code",
      "metadata": {
        "colab": {
          "base_uri": "https://localhost:8080/"
        },
        "id": "Otl96_aSRg6t",
        "outputId": "522114d3-745c-4168-9517-8262349a9104"
      },
      "source": [
        "!pip3 install -r faceHack/requirements.txt"
      ],
      "execution_count": 2,
      "outputs": [
        {
          "output_type": "stream",
          "text": [
            "Requirement already satisfied: torch in /usr/local/lib/python3.7/dist-packages (from -r faceHack/requirements.txt (line 1)) (1.8.1+cu101)\n",
            "Requirement already satisfied: numpy in /usr/local/lib/python3.7/dist-packages (from -r faceHack/requirements.txt (line 2)) (1.19.5)\n",
            "Requirement already satisfied: pillow in /usr/local/lib/python3.7/dist-packages (from -r faceHack/requirements.txt (line 3)) (7.1.2)\n",
            "Requirement already satisfied: typing-extensions in /usr/local/lib/python3.7/dist-packages (from torch->-r faceHack/requirements.txt (line 1)) (3.7.4.3)\n"
          ],
          "name": "stdout"
        }
      ]
    },
    {
      "cell_type": "code",
      "metadata": {
        "id": "e1eYcNd2SpX0"
      },
      "source": [
        "import torch\n",
        "from PIL import Image\n",
        "import numpy as np\n",
        "import os      \n",
        "import torchvision         \n",
        "\n",
        "class FaceDataset(torch.utils.data.Dataset):\n",
        "  def __init__(self,train=True,type='normal',transform=None):\n",
        "    super().__init__()\n",
        "    if(train):\n",
        "      self.data = np.genfromtxt(os.path.join('faceHack','dataset','train.csv'),delimiter=',',dtype=None,encoding='utf-8')\n",
        "    else:\n",
        "      self.data = np.genfromtxt(os.path.join('faceHack','dataset','test.csv'),delimiter=',',dtype=None,encoding='utf-8')\n",
        "\n",
        "    self.type=type\n",
        "    self.transform = transform\n",
        "\n",
        "  def __len__(self):\n",
        "    return self.data.shape[0]\n",
        "\n",
        "  def __getitem__(self, index):\n",
        "    img_name = self.data[index][0]\n",
        "    X = Image.open(os.path.join('faceHack','dataset','happy_images','{}.jpg'.format(img_name)))\n",
        "    label = self.data[index][1]\n",
        "\n",
        "    if(self.type=='normal'):\n",
        "      if(label=='NOT smile'):\n",
        "        y = 0\n",
        "      else:\n",
        "        y = 1\n",
        "    else:\n",
        "      if(label=='positive smile'):\n",
        "        y = 1\n",
        "      else:\n",
        "        y = 0\n",
        "\n",
        "    if(self.transform):\n",
        "      X = self.transform(X)\n",
        "    return X,y\n"
      ],
      "execution_count": 3,
      "outputs": []
    },
    {
      "cell_type": "code",
      "metadata": {
        "id": "0UNCG-mETFq3"
      },
      "source": [
        "faceTransform = torchvision.transforms.Compose([\n",
        "  torchvision.transforms.Resize(224),\n",
        "  torchvision.transforms.RandomHorizontalFlip(),\n",
        "  torchvision.transforms.ToTensor(),\n",
        "])"
      ],
      "execution_count": 4,
      "outputs": []
    },
    {
      "cell_type": "code",
      "metadata": {
        "colab": {
          "base_uri": "https://localhost:8080/",
          "height": 101,
          "referenced_widgets": [
            "da472735a78d44c99cc372988761f830",
            "3ec56ee3ae4749329b45b3e04d34435c",
            "b4423da96d754ac8a1a3f2b651a1280c",
            "3197878bc3874b07bfcee10dce3bd4d9",
            "5f579589e7b7493896976b9e62843dd7",
            "fac7a25f86ab4946a8f3ba7a0014f249",
            "092cb76454694132b41f96ac703c88ee",
            "6d6d4a36652b4b50bbc343ec0c5ddc80"
          ]
        },
        "id": "lhLLE7c9VPwn",
        "outputId": "c46da980-628a-4d8a-e368-f51b89f78273"
      },
      "source": [
        "device = torch.device('cuda')\n",
        "print(device)\n",
        "# model = torch.hub.load('pytorch/vision:v0.9.0', 'resnext101_32x8d', pretrained=True)\n",
        "model = torchvision.models.resnet18(pretrained=True)\n",
        "\n",
        "# for param in model.parameters():\n",
        "#   param.requires_grad = False\n",
        "\n",
        "in_features = model.fc.in_features\n",
        "model.fc = torch.nn.Linear(in_features=in_features,out_features=2)\n",
        "model = model.to(device)\n",
        "\n",
        "\n",
        "trainDataset = FaceDataset(transform=faceTransform)\n",
        "testDataset = FaceDataset(train=False,transform=faceTransform)\n",
        "trainLoader = torch.utils.data.DataLoader(trainDataset,batch_size=32,shuffle=True,num_workers=2)\n",
        "testLoader = torch.utils.data.DataLoader(testDataset,batch_size=32,shuffle=False,num_workers=2)"
      ],
      "execution_count": 8,
      "outputs": [
        {
          "output_type": "stream",
          "text": [
            "cuda\n"
          ],
          "name": "stdout"
        },
        {
          "output_type": "stream",
          "text": [
            "Downloading: \"https://download.pytorch.org/models/resnet18-5c106cde.pth\" to /root/.cache/torch/hub/checkpoints/resnet18-5c106cde.pth\n"
          ],
          "name": "stderr"
        },
        {
          "output_type": "display_data",
          "data": {
            "application/vnd.jupyter.widget-view+json": {
              "model_id": "da472735a78d44c99cc372988761f830",
              "version_minor": 0,
              "version_major": 2
            },
            "text/plain": [
              "HBox(children=(FloatProgress(value=0.0, max=46827520.0), HTML(value='')))"
            ]
          },
          "metadata": {
            "tags": []
          }
        },
        {
          "output_type": "stream",
          "text": [
            "\n"
          ],
          "name": "stdout"
        }
      ]
    },
    {
      "cell_type": "code",
      "metadata": {
        "colab": {
          "base_uri": "https://localhost:8080/",
          "height": 1000
        },
        "id": "1vNp6WBDWhIV",
        "outputId": "3f183200-9e41-4624-ddf0-c088bebaf9da"
      },
      "source": [
        "model.train()\n",
        "criterion = torch.nn.CrossEntropyLoss()\n",
        "optimizer = torch.optim.Adam(model.parameters(),lr=0.00001)\n",
        "epochs = 20\n",
        "\n",
        "loss_hist = []\n",
        "\n",
        "for epoch in range(epochs):\n",
        "  tot_loss = 0\n",
        "  correct = 0\n",
        "  for i,data in enumerate(trainLoader):\n",
        "    X,y = data\n",
        "    X = X.to(device)\n",
        "    y = y.to(device)\n",
        "\n",
        "    out = model(X)\n",
        "\n",
        "    _,pred = torch.max(out,dim=1)\n",
        "    correct += (pred==y).sum().item()\n",
        "\n",
        "    loss = criterion(out,y)\n",
        "    optimizer.zero_grad()\n",
        "    loss.backward()\n",
        "    optimizer.step()\n",
        "\n",
        "    tot_loss += loss.item()\n",
        "    if(i%20==0):\n",
        "      print('Epoch:({},{}): Loss={}'.format(epoch,i,loss.item()))\n",
        "\n",
        "  loss_hist.append(tot_loss)\n",
        "  print('Accuracy is {}'.format(correct/len(trainDataset)))\n",
        "\n",
        "\n",
        "import matplotlib.pyplot as plt\n",
        "\n",
        "plt.plot([i for i in range(epochs)],loss_hist)\n"
      ],
      "execution_count": 11,
      "outputs": [
        {
          "output_type": "stream",
          "text": [
            "Epoch:(0,0): Loss=0.21024098992347717\n",
            "Epoch:(0,20): Loss=0.24143952131271362\n",
            "Epoch:(0,40): Loss=0.1771562695503235\n",
            "Epoch:(0,60): Loss=0.09179981797933578\n",
            "Epoch:(0,80): Loss=0.1920701563358307\n",
            "Epoch:(0,100): Loss=0.18343539535999298\n",
            "Epoch:(0,120): Loss=0.09841056913137436\n",
            "Epoch:(0,140): Loss=0.32677021622657776\n",
            "Accuracy is 0.9223763196025667\n",
            "Epoch:(1,0): Loss=0.21512922644615173\n",
            "Epoch:(1,20): Loss=0.10100206732749939\n",
            "Epoch:(1,40): Loss=0.4533546268939972\n",
            "Epoch:(1,60): Loss=0.16296620666980743\n",
            "Epoch:(1,80): Loss=0.14897404611110687\n",
            "Epoch:(1,100): Loss=0.18975397944450378\n",
            "Epoch:(1,120): Loss=0.18384794890880585\n",
            "Epoch:(1,140): Loss=0.2706131041049957\n",
            "Accuracy is 0.945352929000207\n",
            "Epoch:(2,0): Loss=0.1782318353652954\n",
            "Epoch:(2,20): Loss=0.11088445037603378\n",
            "Epoch:(2,40): Loss=0.09868742525577545\n",
            "Epoch:(2,60): Loss=0.1418096274137497\n",
            "Epoch:(2,80): Loss=0.0834188312292099\n",
            "Epoch:(2,100): Loss=0.056571222841739655\n",
            "Epoch:(2,120): Loss=0.19595129787921906\n",
            "Epoch:(2,140): Loss=0.08416631817817688\n",
            "Accuracy is 0.9540467812047195\n",
            "Epoch:(3,0): Loss=0.06744597107172012\n",
            "Epoch:(3,20): Loss=0.06657152622938156\n",
            "Epoch:(3,40): Loss=0.07812049984931946\n",
            "Epoch:(3,60): Loss=0.07003740966320038\n",
            "Epoch:(3,80): Loss=0.29275622963905334\n",
            "Epoch:(3,100): Loss=0.10102645307779312\n",
            "Epoch:(3,120): Loss=0.06200866773724556\n",
            "Epoch:(3,140): Loss=0.18075716495513916\n",
            "Accuracy is 0.9714344856137446\n",
            "Epoch:(4,0): Loss=0.04474976658821106\n",
            "Epoch:(4,20): Loss=0.042351286858320236\n",
            "Epoch:(4,40): Loss=0.04736092686653137\n",
            "Epoch:(4,60): Loss=0.04174138233065605\n",
            "Epoch:(4,80): Loss=0.07564817368984222\n",
            "Epoch:(4,100): Loss=0.13537251949310303\n",
            "Epoch:(4,120): Loss=0.044616758823394775\n",
            "Epoch:(4,140): Loss=0.03170207515358925\n",
            "Accuracy is 0.9815773131856759\n",
            "Epoch:(5,0): Loss=0.1157069206237793\n",
            "Epoch:(5,20): Loss=0.04815734550356865\n",
            "Epoch:(5,40): Loss=0.03229360282421112\n",
            "Epoch:(5,60): Loss=0.07736685127019882\n",
            "Epoch:(5,80): Loss=0.0796579048037529\n",
            "Epoch:(5,100): Loss=0.10929151624441147\n",
            "Epoch:(5,120): Loss=0.073377326130867\n",
            "Epoch:(5,140): Loss=0.08361566811800003\n",
            "Accuracy is 0.9877872076174705\n",
            "Epoch:(6,0): Loss=0.02533704973757267\n",
            "Epoch:(6,20): Loss=0.046950191259384155\n",
            "Epoch:(6,40): Loss=0.015712829306721687\n",
            "Epoch:(6,60): Loss=0.02420329488813877\n",
            "Epoch:(6,80): Loss=0.028964245691895485\n",
            "Epoch:(6,100): Loss=0.02978593111038208\n",
            "Epoch:(6,120): Loss=0.14247478544712067\n",
            "Epoch:(6,140): Loss=0.0824008360505104\n",
            "Accuracy is 0.9927551231629063\n",
            "Epoch:(7,0): Loss=0.07449304312467575\n",
            "Epoch:(7,20): Loss=0.05892598628997803\n",
            "Epoch:(7,40): Loss=0.051891524344682693\n",
            "Epoch:(7,60): Loss=0.01599615253508091\n",
            "Epoch:(7,80): Loss=0.03950381278991699\n",
            "Epoch:(7,100): Loss=0.030617039650678635\n",
            "Epoch:(7,120): Loss=0.024943731725215912\n",
            "Epoch:(7,140): Loss=0.01951453648507595\n",
            "Accuracy is 0.9913061477954874\n",
            "Epoch:(8,0): Loss=0.060630518943071365\n",
            "Epoch:(8,20): Loss=0.017432451248168945\n",
            "Epoch:(8,40): Loss=0.01766960322856903\n",
            "Epoch:(8,60): Loss=0.018730470910668373\n"
          ],
          "name": "stdout"
        },
        {
          "output_type": "error",
          "ename": "KeyboardInterrupt",
          "evalue": "ignored",
          "traceback": [
            "\u001b[0;31m---------------------------------------------------------------------------\u001b[0m",
            "\u001b[0;31mKeyboardInterrupt\u001b[0m                         Traceback (most recent call last)",
            "\u001b[0;32m<ipython-input-11-b6a693271e62>\u001b[0m in \u001b[0;36m<module>\u001b[0;34m()\u001b[0m\n\u001b[1;32m     24\u001b[0m     \u001b[0moptimizer\u001b[0m\u001b[0;34m.\u001b[0m\u001b[0mstep\u001b[0m\u001b[0;34m(\u001b[0m\u001b[0;34m)\u001b[0m\u001b[0;34m\u001b[0m\u001b[0;34m\u001b[0m\u001b[0m\n\u001b[1;32m     25\u001b[0m \u001b[0;34m\u001b[0m\u001b[0m\n\u001b[0;32m---> 26\u001b[0;31m     \u001b[0mtot_loss\u001b[0m \u001b[0;34m+=\u001b[0m \u001b[0mloss\u001b[0m\u001b[0;34m.\u001b[0m\u001b[0mitem\u001b[0m\u001b[0;34m(\u001b[0m\u001b[0;34m)\u001b[0m\u001b[0;34m\u001b[0m\u001b[0;34m\u001b[0m\u001b[0m\n\u001b[0m\u001b[1;32m     27\u001b[0m     \u001b[0;32mif\u001b[0m\u001b[0;34m(\u001b[0m\u001b[0mi\u001b[0m\u001b[0;34m%\u001b[0m\u001b[0;36m20\u001b[0m\u001b[0;34m==\u001b[0m\u001b[0;36m0\u001b[0m\u001b[0;34m)\u001b[0m\u001b[0;34m:\u001b[0m\u001b[0;34m\u001b[0m\u001b[0;34m\u001b[0m\u001b[0m\n\u001b[1;32m     28\u001b[0m       \u001b[0mprint\u001b[0m\u001b[0;34m(\u001b[0m\u001b[0;34m'Epoch:({},{}): Loss={}'\u001b[0m\u001b[0;34m.\u001b[0m\u001b[0mformat\u001b[0m\u001b[0;34m(\u001b[0m\u001b[0mepoch\u001b[0m\u001b[0;34m,\u001b[0m\u001b[0mi\u001b[0m\u001b[0;34m,\u001b[0m\u001b[0mloss\u001b[0m\u001b[0;34m.\u001b[0m\u001b[0mitem\u001b[0m\u001b[0;34m(\u001b[0m\u001b[0;34m)\u001b[0m\u001b[0;34m)\u001b[0m\u001b[0;34m)\u001b[0m\u001b[0;34m\u001b[0m\u001b[0;34m\u001b[0m\u001b[0m\n",
            "\u001b[0;31mKeyboardInterrupt\u001b[0m: "
          ]
        }
      ]
    },
    {
      "cell_type": "code",
      "metadata": {
        "id": "jFvU-NWoY5-e"
      },
      "source": [
        "model.eval()"
      ],
      "execution_count": null,
      "outputs": []
    }
  ]
}