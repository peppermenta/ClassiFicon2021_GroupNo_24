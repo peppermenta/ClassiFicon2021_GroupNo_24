{
  "nbformat": 4,
  "nbformat_minor": 0,
  "metadata": {
    "kernelspec": {
      "display_name": "Python 3",
      "language": "python",
      "name": "python3"
    },
    "language_info": {
      "codemirror_mode": {
        "name": "ipython",
        "version": 3
      },
      "file_extension": ".py",
      "mimetype": "text/x-python",
      "name": "python",
      "nbconvert_exporter": "python",
      "pygments_lexer": "ipython3",
      "version": "3.8.5"
    },
    "colab": {
      "name": "FaceNet.ipynb",
      "provenance": []
    }
  },
  "cells": [
    {
      "cell_type": "code",
      "metadata": {
        "id": "d-vxdvCFQduY"
      },
      "source": [
        ""
      ],
      "execution_count": null,
      "outputs": []
    },
    {
      "cell_type": "code",
      "metadata": {
        "colab": {
          "base_uri": "https://localhost:8080/"
        },
        "id": "03fi56feQx7z",
        "outputId": "e52e8117-e91d-42d7-e803-df9152ce23c3"
      },
      "source": [
        "!git clone https://github.com/peppermenta/faceHack"
      ],
      "execution_count": 1,
      "outputs": [
        {
          "output_type": "stream",
          "text": [
            "Cloning into 'faceHack'...\n",
            "remote: Enumerating objects: 6461, done.\u001b[K\n",
            "remote: Counting objects: 100% (6461/6461), done.\u001b[K\n",
            "remote: Compressing objects: 100% (6458/6458), done.\u001b[K\n",
            "remote: Total 6461 (delta 2), reused 6458 (delta 1), pack-reused 0\u001b[K\n",
            "Receiving objects: 100% (6461/6461), 61.98 MiB | 25.33 MiB/s, done.\n",
            "Resolving deltas: 100% (2/2), done.\n"
          ],
          "name": "stdout"
        }
      ]
    },
    {
      "cell_type": "code",
      "metadata": {
        "id": "Otl96_aSRg6t"
      },
      "source": [
        ""
      ],
      "execution_count": null,
      "outputs": []
    }
  ]
}