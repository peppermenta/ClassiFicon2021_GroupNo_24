{
  "nbformat": 4,
  "nbformat_minor": 0,
  "metadata": {
    "kernelspec": {
      "display_name": "Python 3",
      "language": "python",
      "name": "python3"
    },
    "language_info": {
      "codemirror_mode": {
        "name": "ipython",
        "version": 3
      },
      "file_extension": ".py",
      "mimetype": "text/x-python",
      "name": "python",
      "nbconvert_exporter": "python",
      "pygments_lexer": "ipython3",
      "version": "3.8.5"
    },
    "colab": {
      "name": "FaceNet.ipynb",
      "provenance": []
    },
    "accelerator": "GPU"
  },
  "cells": [
    {
      "cell_type": "code",
      "metadata": {
        "colab": {
          "base_uri": "https://localhost:8080/"
        },
        "id": "03fi56feQx7z",
        "outputId": "2138f4b0-4e4c-4059-891e-c91b9ace8004"
      },
      "source": [
        "!git clone https://github.com/peppermenta/faceHack"
      ],
      "execution_count": 1,
      "outputs": [
        {
          "output_type": "stream",
          "text": [
            "Cloning into 'faceHack'...\n",
            "remote: Enumerating objects: 6476, done.\u001b[K\n",
            "remote: Counting objects: 100% (6476/6476), done.\u001b[K\n",
            "remote: Compressing objects: 100% (6473/6473), done.\u001b[K\n",
            "remote: Total 6476 (delta 10), reused 6457 (delta 1), pack-reused 0\u001b[K\n",
            "Receiving objects: 100% (6476/6476), 61.99 MiB | 25.97 MiB/s, done.\n",
            "Resolving deltas: 100% (10/10), done.\n"
          ],
          "name": "stdout"
        }
      ]
    },
    {
      "cell_type": "code",
      "metadata": {
        "colab": {
          "base_uri": "https://localhost:8080/"
        },
        "id": "Otl96_aSRg6t",
        "outputId": "c2c4de1d-7029-499e-8c15-b3a143f57343"
      },
      "source": [
        "!pip3 install -r faceHack/requirements.txt"
      ],
      "execution_count": 2,
      "outputs": [
        {
          "output_type": "stream",
          "text": [
            "Requirement already satisfied: torch in /usr/local/lib/python3.7/dist-packages (from -r faceHack/requirements.txt (line 1)) (1.8.1+cu101)\n",
            "Requirement already satisfied: numpy in /usr/local/lib/python3.7/dist-packages (from -r faceHack/requirements.txt (line 2)) (1.19.5)\n",
            "Requirement already satisfied: pillow in /usr/local/lib/python3.7/dist-packages (from -r faceHack/requirements.txt (line 3)) (7.1.2)\n",
            "Requirement already satisfied: typing-extensions in /usr/local/lib/python3.7/dist-packages (from torch->-r faceHack/requirements.txt (line 1)) (3.7.4.3)\n"
          ],
          "name": "stdout"
        }
      ]
    },
    {
      "cell_type": "code",
      "metadata": {
        "id": "e1eYcNd2SpX0"
      },
      "source": [
        "import torch\n",
        "from PIL import Image\n",
        "import numpy as np\n",
        "import os      \n",
        "import torchvision         \n",
        "\n",
        "class FaceDataset(torch.utils.data.Dataset):\n",
        "  def __init__(self,train=True,type='normal',transform=None):\n",
        "    super().__init__()\n",
        "    if(train):\n",
        "      self.data = np.genfromtxt(os.path.join('faceHack','dataset','train.csv'),delimiter=',',dtype=None,encoding='utf-8')\n",
        "    else:\n",
        "      self.data = np.genfromtxt(os.path.join('faceHack','dataset','test.csv'),delimiter=',',dtype=None,encoding='utf-8')\n",
        "\n",
        "    self.type=type\n",
        "    self.transform = transform\n",
        "\n",
        "  def __len__(self):\n",
        "    return self.data.shape[0]\n",
        "\n",
        "  def __getitem__(self, index):\n",
        "    img_name = self.data[index][0]\n",
        "    X = Image.open(os.path.join('faceHack','dataset','happy_images','{}.jpg'.format(img_name)))\n",
        "    label = self.data[index][1]\n",
        "\n",
        "    if(self.type=='normal'):\n",
        "      if(label=='NOT smile'):\n",
        "        y = 0\n",
        "      else:\n",
        "        y = 1\n",
        "    else:\n",
        "      if(label=='positive smile'):\n",
        "        y = 1\n",
        "      else:\n",
        "        y = 0\n",
        "\n",
        "    if(self.transform):\n",
        "      X = self.transform(X)\n",
        "    return X,y\n"
      ],
      "execution_count": 3,
      "outputs": []
    },
    {
      "cell_type": "code",
      "metadata": {
        "id": "0UNCG-mETFq3"
      },
      "source": [
        "faceTransform = torchvision.transforms.Compose([\n",
        "  torchvision.transforms.Resize(224),\n",
        "  torchvision.transforms.RandomHorizontalFlip(),\n",
        "  torchvision.transforms.ToTensor(),\n",
        "])"
      ],
      "execution_count": 4,
      "outputs": []
    },
    {
      "cell_type": "code",
      "metadata": {
        "colab": {
          "base_uri": "https://localhost:8080/"
        },
        "id": "lhLLE7c9VPwn",
        "outputId": "3d43331c-8dbd-4f77-aa06-94198a9aafb1"
      },
      "source": [
        "device = torch.device('cuda')\n",
        "print(device)\n",
        "# model = torch.hub.load('pytorch/vision:v0.9.0', 'resnext101_32x8d', pretrained=True)\n",
        "model = torchvision.models.resnet18(pretrained=True)\n",
        "\n",
        "# for param in model.parameters():\n",
        "#   param.requires_grad = False\n",
        "\n",
        "in_features = model.fc.in_features\n",
        "model.fc = torch.nn.Sequential(\n",
        "    torch.nn.Linear(in_features=in_features,out_features=128),\n",
        "    torch.nn.Linear(in_features=128,out_features=2)\n",
        ")\n",
        "\n",
        "model = model.to(device)\n",
        "\n",
        "trainDataset = FaceDataset(transform=faceTransform)\n",
        "testDataset = FaceDataset(train=False,transform=faceTransform)\n",
        "trainLoader = torch.utils.data.DataLoader(trainDataset,batch_size=32,shuffle=True,num_workers=2)\n",
        "testLoader = torch.utils.data.DataLoader(testDataset,batch_size=32,shuffle=False,num_workers=2)"
      ],
      "execution_count": 29,
      "outputs": [
        {
          "output_type": "stream",
          "text": [
            "cuda\n"
          ],
          "name": "stdout"
        }
      ]
    },
    {
      "cell_type": "code",
      "metadata": {
        "colab": {
          "base_uri": "https://localhost:8080/",
          "height": 1000
        },
        "id": "1vNp6WBDWhIV",
        "outputId": "69f303b8-b141-4c35-b928-17b24d42c1e3"
      },
      "source": [
        "model.train()\n",
        "criterion = torch.nn.CrossEntropyLoss()\n",
        "optimizer = torch.optim.Adam(model.parameters(),lr=0.0001)\n",
        "epochs = 20\n",
        "lambda1 = 0.0001\n",
        "\n",
        "loss_hist = []\n",
        "train_acc_hist = []\n",
        "test_acc_hist = []\n",
        "\n",
        "for epoch in range(epochs):\n",
        "  tot_loss = 0\n",
        "  correct = 0\n",
        "  for i,data in enumerate(trainLoader):\n",
        "    X,y = data\n",
        "    X = X.to(device)\n",
        "    y = y.to(device)\n",
        "\n",
        "    out = model(X)\n",
        "\n",
        "    _,pred = torch.max(out,dim=1)\n",
        "    correct += (pred==y).sum().item()\n",
        "\n",
        "    loss = criterion(out,y)\n",
        "    for p in model.parameters():\n",
        "      loss += lambda1*torch.sum(p**2)\n",
        "    optimizer.zero_grad()\n",
        "    loss.backward()\n",
        "    optimizer.step()\n",
        "\n",
        "    tot_loss += loss.item()\n",
        "    if(i%20==0):\n",
        "      print('Epoch:({},{}): Loss={}'.format(epoch,i,loss.item()))\n",
        "\n",
        "  loss_hist.append(tot_loss)\n",
        "  print('Train Accuracy is {}'.format(correct/len(trainDataset)))\n",
        "  train_acc_hist.append(correct/len(trainDataset))\n",
        "\n",
        "  test_correct = 0\n",
        "  with torch.no_grad():\n",
        "    for X,y in testLoader:\n",
        "      X = X.to(device)\n",
        "      y = y.to(device)\n",
        "      out = model(X)\n",
        "      _,pred = torch.max(out,dim=1)\n",
        "      test_correct += (pred==y).sum().item()\n",
        "  print('Test accuracy is {}'.format(test_correct/len(testDataset)))\n",
        "  test_acc_hist.append(test_correct/len(testDataset))\n",
        "\n",
        "import matplotlib.pyplot as plt\n",
        "\n",
        "plt.plot([i for i in range(epochs)],loss_hist)\n",
        "plt.show()\n",
        "\n",
        "plt.plot([i for i in range(epochs)],train_acc_hist)\n",
        "plt.plot([i for i in range(epochs)],test_acc_hist)\n",
        "plt.legend(['Train Accuracy','Test Accuracy'])\n",
        "plt.show()"
      ],
      "execution_count": 30,
      "outputs": [
        {
          "output_type": "stream",
          "text": [
            "Epoch:(0,0): Loss=1.3895307779312134\n",
            "Epoch:(0,20): Loss=1.2433735132217407\n",
            "Epoch:(0,40): Loss=1.2063820362091064\n",
            "Epoch:(0,60): Loss=1.3031401634216309\n",
            "Epoch:(0,80): Loss=1.1980770826339722\n",
            "Epoch:(0,100): Loss=1.152396559715271\n",
            "Epoch:(0,120): Loss=1.05098295211792\n",
            "Epoch:(0,140): Loss=1.0654624700546265\n",
            "Train Accuracy is 0.7990064168909129\n",
            "Test accuracy is 0.8373680943513345\n",
            "Epoch:(1,0): Loss=0.9930232763290405\n",
            "Epoch:(1,20): Loss=0.8549711108207703\n",
            "Epoch:(1,40): Loss=1.0228468179702759\n",
            "Epoch:(1,60): Loss=1.021653652191162\n",
            "Epoch:(1,80): Loss=1.1394072771072388\n",
            "Epoch:(1,100): Loss=0.8508842587471008\n",
            "Epoch:(1,120): Loss=1.0516301393508911\n",
            "Epoch:(1,140): Loss=1.0992943048477173\n",
            "Train Accuracy is 0.8664872697164149\n",
            "Test accuracy is 0.8417132216014898\n",
            "Epoch:(2,0): Loss=1.1469699144363403\n",
            "Epoch:(2,20): Loss=0.9340562224388123\n",
            "Epoch:(2,40): Loss=1.0219371318817139\n",
            "Epoch:(2,60): Loss=1.0483355522155762\n",
            "Epoch:(2,80): Loss=1.034873127937317\n",
            "Epoch:(2,100): Loss=1.0333589315414429\n",
            "Epoch:(2,120): Loss=1.0423721075057983\n",
            "Epoch:(2,140): Loss=0.9561612010002136\n",
            "Train Accuracy is 0.9014696750155248\n",
            "Test accuracy is 0.834885164494103\n",
            "Epoch:(3,0): Loss=0.908581554889679\n",
            "Epoch:(3,20): Loss=0.835013747215271\n",
            "Epoch:(3,40): Loss=0.8089430332183838\n",
            "Epoch:(3,60): Loss=0.9522325992584229\n",
            "Epoch:(3,80): Loss=0.8260924220085144\n",
            "Epoch:(3,100): Loss=1.026214599609375\n",
            "Epoch:(3,120): Loss=0.9627302289009094\n",
            "Epoch:(3,140): Loss=0.9079020023345947\n",
            "Train Accuracy is 0.9333471330987373\n",
            "Test accuracy is 0.818746120422098\n",
            "Epoch:(4,0): Loss=0.8787311315536499\n",
            "Epoch:(4,20): Loss=0.8070077300071716\n",
            "Epoch:(4,40): Loss=0.8756762742996216\n",
            "Epoch:(4,60): Loss=0.7887412309646606\n",
            "Epoch:(4,80): Loss=0.8676179647445679\n",
            "Epoch:(4,100): Loss=0.9280502200126648\n",
            "Epoch:(4,120): Loss=0.858263373374939\n",
            "Epoch:(4,140): Loss=0.7894389629364014\n",
            "Train Accuracy is 0.9532187952804803\n",
            "Test accuracy is 0.839851024208566\n",
            "Epoch:(5,0): Loss=0.749411940574646\n",
            "Epoch:(5,20): Loss=0.8007521629333496\n",
            "Epoch:(5,40): Loss=0.843205451965332\n",
            "Epoch:(5,60): Loss=0.885329008102417\n"
          ],
          "name": "stdout"
        },
        {
          "output_type": "error",
          "ename": "KeyboardInterrupt",
          "evalue": "ignored",
          "traceback": [
            "\u001b[0;31m---------------------------------------------------------------------------\u001b[0m",
            "\u001b[0;31mKeyboardInterrupt\u001b[0m                         Traceback (most recent call last)",
            "\u001b[0;32m<ipython-input-30-6c20f0153363>\u001b[0m in \u001b[0;36m<module>\u001b[0;34m()\u001b[0m\n\u001b[1;32m     20\u001b[0m \u001b[0;34m\u001b[0m\u001b[0m\n\u001b[1;32m     21\u001b[0m     \u001b[0m_\u001b[0m\u001b[0;34m,\u001b[0m\u001b[0mpred\u001b[0m \u001b[0;34m=\u001b[0m \u001b[0mtorch\u001b[0m\u001b[0;34m.\u001b[0m\u001b[0mmax\u001b[0m\u001b[0;34m(\u001b[0m\u001b[0mout\u001b[0m\u001b[0;34m,\u001b[0m\u001b[0mdim\u001b[0m\u001b[0;34m=\u001b[0m\u001b[0;36m1\u001b[0m\u001b[0;34m)\u001b[0m\u001b[0;34m\u001b[0m\u001b[0;34m\u001b[0m\u001b[0m\n\u001b[0;32m---> 22\u001b[0;31m     \u001b[0mcorrect\u001b[0m \u001b[0;34m+=\u001b[0m \u001b[0;34m(\u001b[0m\u001b[0mpred\u001b[0m\u001b[0;34m==\u001b[0m\u001b[0my\u001b[0m\u001b[0;34m)\u001b[0m\u001b[0;34m.\u001b[0m\u001b[0msum\u001b[0m\u001b[0;34m(\u001b[0m\u001b[0;34m)\u001b[0m\u001b[0;34m.\u001b[0m\u001b[0mitem\u001b[0m\u001b[0;34m(\u001b[0m\u001b[0;34m)\u001b[0m\u001b[0;34m\u001b[0m\u001b[0;34m\u001b[0m\u001b[0m\n\u001b[0m\u001b[1;32m     23\u001b[0m \u001b[0;34m\u001b[0m\u001b[0m\n\u001b[1;32m     24\u001b[0m     \u001b[0mloss\u001b[0m \u001b[0;34m=\u001b[0m \u001b[0mcriterion\u001b[0m\u001b[0;34m(\u001b[0m\u001b[0mout\u001b[0m\u001b[0;34m,\u001b[0m\u001b[0my\u001b[0m\u001b[0;34m)\u001b[0m\u001b[0;34m\u001b[0m\u001b[0;34m\u001b[0m\u001b[0m\n",
            "\u001b[0;31mKeyboardInterrupt\u001b[0m: "
          ]
        }
      ]
    },
    {
      "cell_type": "code",
      "metadata": {
        "id": "jFvU-NWoY5-e"
      },
      "source": [
        "model.eval()"
      ],
      "execution_count": null,
      "outputs": []
    }
  ]
}